{
 "cells": [
  {
   "cell_type": "markdown",
   "id": "24e1ee0d",
   "metadata": {},
   "source": [
    "# Pandas"
   ]
  },
  {
   "cell_type": "markdown",
   "id": "bb4a4168",
   "metadata": {},
   "source": [
    "Pandas is a **library** containing functions, methods, and data types that allow us to analyze data. To use the functions contained in pandas, we must first **import** the module. The ``as pd`` part tells the computer that whenever we want to use a function from pandas, we can refer to it using ``pd``."
   ]
  },
  {
   "cell_type": "code",
   "execution_count": null,
   "id": "884f931d",
   "metadata": {},
   "outputs": [],
   "source": [
    "# Make sure to run this first!!\n",
    "import pandas as pd"
   ]
  },
  {
   "cell_type": "markdown",
   "id": "9a8bae72",
   "metadata": {},
   "source": [
    "(Tip: make your own list of common pieces of code and syntax so you can easily refer to it, like a cheat sheet.)\n",
    "\n",
    "https://melaniewalsh.github.io/Intro-Cultural-Analytics/03-Data-Analysis/01-Pandas-Basics-Part1.html\n",
    "\n",
    "https://www.w3schools.com/python/pandas/pandas_ref_dataframe.asp"
   ]
  },
  {
   "cell_type": "markdown",
   "id": "0a001c04",
   "metadata": {},
   "source": [
    "## Data types in pandas\n",
    "| Python         | Pandas             |\n",
    "|----------------|--------------------|\n",
    "|String (`str`)  | Object (`object`)  |\n",
    "|Integer (`int`) | Int64 (`int64`)    |\n",
    "|Float (`float`) | Float64 (`float64`)|\n",
    "|List (`list`)   |$\\approx$ Series (`Series`)   |\n",
    "|                |DataFrames (`DataFrame`)|"
   ]
  },
  {
   "cell_type": "markdown",
   "id": "6c51484e",
   "metadata": {},
   "source": [
    "## Creating a variable for a file as a dataframe"
   ]
  },
  {
   "cell_type": "markdown",
   "id": "59a916e8",
   "metadata": {},
   "source": [
    "### Question 1\n",
    "\n",
    "For this tutorial demo, we will use data published by the Seattle Public Library concerning items that were checked out in April 2020. To use the file ``seattle_checkouts.csv``, you can upload this notebook directly to your Week 7 Lab folder. Note this is a csv file, so we **do not need** the parameter ``sep=\"\\t\"`` when using ``read_csv``. \n",
    "\n",
    "The two pieces of code below each have an error. Run the code, identify the two errors, then correct it. \n",
    "\n"
   ]
  },
  {
   "cell_type": "code",
   "execution_count": null,
   "id": "6a5cb164",
   "metadata": {},
   "outputs": [],
   "source": [
    "checkouts_df = read_csv('seattle_checkouts.csv')"
   ]
  },
  {
   "cell_type": "code",
   "execution_count": null,
   "id": "935979c5",
   "metadata": {},
   "outputs": [],
   "source": [
    "checkouts_df = pd.read_csv('seattle_checkouts.csv')"
   ]
  },
  {
   "cell_type": "code",
   "execution_count": null,
   "id": "692a7cb9",
   "metadata": {},
   "outputs": [],
   "source": [
    "# Write the correct line here, then run it:"
   ]
  },
  {
   "cell_type": "markdown",
   "id": "50cbecac",
   "metadata": {},
   "source": [
    "## Selecting Columns"
   ]
  },
  {
   "cell_type": "markdown",
   "id": "db8da1f8",
   "metadata": {},
   "source": [
    "Note: using ``print(checkouts_df)`` does not produce a nice readable output for a dataframe. Instead, you can just type the variable name and run the cell to view the dataframe. "
   ]
  },
  {
   "cell_type": "code",
   "execution_count": null,
   "id": "35542c4e",
   "metadata": {
    "scrolled": true
   },
   "outputs": [],
   "source": [
    "#Run this cell to see the dataframe stored in checkouts_df.\n",
    "checkouts_df"
   ]
  },
  {
   "cell_type": "markdown",
   "id": "283ef72e",
   "metadata": {},
   "source": [
    "### Question 2\n",
    "I want to isolate the columns containing the number of checkouts, title, and creator of each work, then store the resulting dataframe in a new variable. Identify the error, then correct it. "
   ]
  },
  {
   "cell_type": "code",
   "execution_count": null,
   "id": "f23c6f2a",
   "metadata": {
    "scrolled": true
   },
   "outputs": [],
   "source": [
    "trimmed_checkouts_df = checkouts_df[[\"checkouts\", \"title\", \"creator\"]]"
   ]
  },
  {
   "cell_type": "code",
   "execution_count": null,
   "id": "a7fbd0f1",
   "metadata": {},
   "outputs": [],
   "source": []
  },
  {
   "cell_type": "code",
   "execution_count": null,
   "id": "cea76eee",
   "metadata": {},
   "outputs": [],
   "source": [
    "trimmed_checkouts_df"
   ]
  },
  {
   "cell_type": "markdown",
   "id": "93dc070d-79c5-4b79-b3b6-35d804a3ce5e",
   "metadata": {},
   "source": [
    "What if I just want to get the creator column? What is difference between these two lines?"
   ]
  },
  {
   "cell_type": "code",
   "execution_count": null,
   "id": "c017edd6-510d-430e-9e9e-922b050bd9c3",
   "metadata": {},
   "outputs": [],
   "source": [
    "checkouts_creators_df = checkouts_df[[\"Creator\"]]\n",
    "checkouts_creators_df"
   ]
  },
  {
   "cell_type": "code",
   "execution_count": null,
   "id": "2bdf9389-2ee8-41be-aa98-ece0718f254d",
   "metadata": {},
   "outputs": [],
   "source": [
    "checkouts_creators_df = checkouts_df[\"Creator\"]\n",
    "checkouts_creators_df"
   ]
  },
  {
   "cell_type": "markdown",
   "id": "eb563343",
   "metadata": {},
   "source": [
    "## Counting values in a dataframe"
   ]
  },
  {
   "cell_type": "markdown",
   "id": "e88f50ae",
   "metadata": {},
   "source": [
    "### Question 3\n",
    "In lecture, we used the line \n",
    "\n",
    "``nyt_df['title'].value_counts()`` \n",
    "\n",
    "to find the most common titles among the entries in the dataframe ``nyt_df``. \n",
    "\n",
    "**3a)** Modify the line to find the most common publication years among the items in ``checkouts_df``."
   ]
  },
  {
   "cell_type": "code",
   "execution_count": null,
   "id": "e03631a6",
   "metadata": {},
   "outputs": [],
   "source": [
    "nyt_df['title'].value_counts()"
   ]
  },
  {
   "cell_type": "markdown",
   "id": "3a268d3c-9709-4e5d-81b3-7ac7d43cba65",
   "metadata": {},
   "source": [
    "What can we do to get a Series containing only the top 10 most common publication years? (Recall: how do you get the first ten items in a list?) "
   ]
  },
  {
   "cell_type": "code",
   "execution_count": null,
   "id": "06b88d80-54fd-4e74-9d00-0bf9a91964f4",
   "metadata": {},
   "outputs": [],
   "source": []
  },
  {
   "cell_type": "markdown",
   "id": "51780cc3",
   "metadata": {},
   "source": [
    "**3b)** Create a bar graph displaying the most common publication years among the items in ``checkouts_df``."
   ]
  },
  {
   "cell_type": "code",
   "execution_count": null,
   "id": "dd541f43",
   "metadata": {},
   "outputs": [],
   "source": [
    "# Modify this line of code to get what you want:\n",
    "top_ten_authors = nyt_df['author'].value_counts()[:10]\n",
    "plot = top_ten_authors.plot(kind=\"bar\", title='NYT Best Sellers:\\nTen Authors Who Appear Most Frequently')"
   ]
  },
  {
   "cell_type": "markdown",
   "id": "db60b52e",
   "metadata": {},
   "source": [
    "## Filtering data"
   ]
  },
  {
   "cell_type": "markdown",
   "id": "68b602ac",
   "metadata": {},
   "source": [
    "### Question 4\n",
    "\n",
    "In lecture we used the code\n",
    "\n",
    "``nyt_df[nyt_df['author'] == 'Toni Morrison']``\n",
    "\n",
    "to create a new dataframe containing only the entries in ``nyt_df`` written by Toni Morrison, i.e. the entries whose ``author`` value is ``'Toni Morrison'``. \n",
    "\n",
    "**4a)** Modify the line to get a dataframe containing only the works in ``checkouts_df`` written by Geronimo Stilton and store the result in a variable called `stilton_df`."
   ]
  },
  {
   "cell_type": "code",
   "execution_count": null,
   "id": "25b15d8c",
   "metadata": {},
   "outputs": [],
   "source": [
    "stilton_df = checkouts_df[checkouts_df['Creator'] == 'Geronimo Stilton']"
   ]
  },
  {
   "cell_type": "code",
   "execution_count": null,
   "id": "42c21bdc",
   "metadata": {
    "scrolled": true
   },
   "outputs": [],
   "source": [
    "checkouts_df"
   ]
  },
  {
   "cell_type": "markdown",
   "id": "0e43aa46",
   "metadata": {},
   "source": [
    "**4b)** Similarly, get a dataframe containing only the works in ``checkouts_df`` that are audiobooks and store the result in a variable called ``audiobooks_df``. "
   ]
  },
  {
   "cell_type": "code",
   "execution_count": null,
   "id": "36fc858b",
   "metadata": {},
   "outputs": [],
   "source": [
    "audiobooks_df = checkouts_df[checkouts_df['MaterialType'] == 'AUDIOBOOK']"
   ]
  },
  {
   "cell_type": "code",
   "execution_count": null,
   "id": "d75b81ee",
   "metadata": {},
   "outputs": [],
   "source": [
    "audiobooks_df"
   ]
  },
  {
   "cell_type": "markdown",
   "id": "42e90923",
   "metadata": {},
   "source": [
    "## Using `.describe()`"
   ]
  },
  {
   "cell_type": "markdown",
   "id": "6e44edfc",
   "metadata": {},
   "source": [
    "### Question 5\n",
    "\n",
    "**5a)** Write down what each of the rows in the table means.\n",
    "\n",
    "- count:\n",
    "- unique:\n",
    "- top:\n",
    "- mean:\n",
    "- std:\n",
    "- min:\n",
    "- 25%:\n",
    "- 50%:\n",
    "- 75%:\n",
    "- max:\n",
    "\n",
    "**5b)** Some of the entries say ``NaN``, which means \"Not a number\". What do you think is the reason for this?"
   ]
  },
  {
   "cell_type": "code",
   "execution_count": null,
   "id": "dd25db88",
   "metadata": {},
   "outputs": [],
   "source": [
    "checkouts_df.describe(include=\"all\")"
   ]
  },
  {
   "cell_type": "markdown",
   "id": "c25665e5",
   "metadata": {},
   "source": [
    "**5b)** Explain how the output of ``.describe()`` differs when using different parameters."
   ]
  },
  {
   "cell_type": "code",
   "execution_count": null,
   "id": "ed55ec0e",
   "metadata": {},
   "outputs": [],
   "source": [
    "checkouts_df[:5]"
   ]
  },
  {
   "cell_type": "code",
   "execution_count": null,
   "id": "931c00d3",
   "metadata": {},
   "outputs": [],
   "source": [
    "checkouts_df.describe(include=\"object\")"
   ]
  },
  {
   "cell_type": "code",
   "execution_count": null,
   "id": "c3c1876d",
   "metadata": {},
   "outputs": [],
   "source": [
    "checkouts_df.describe(include=\"int64\")"
   ]
  },
  {
   "cell_type": "code",
   "execution_count": null,
   "id": "b1fe03f5",
   "metadata": {
    "scrolled": true
   },
   "outputs": [],
   "source": [
    "# Observe what happens if I try this:\n",
    "\n",
    "checkouts_df.describe(include=\"Creator\")\n",
    "\n",
    "# I get an error because the parameter must be a data type; I can't use a column name, for example. "
   ]
  }
 ],
 "metadata": {
  "kernelspec": {
   "display_name": "Python 3 (ipykernel)",
   "language": "python",
   "name": "python3"
  },
  "language_info": {
   "codemirror_mode": {
    "name": "ipython",
    "version": 3
   },
   "file_extension": ".py",
   "mimetype": "text/x-python",
   "name": "python",
   "nbconvert_exporter": "python",
   "pygments_lexer": "ipython3",
   "version": "3.12.11"
  }
 },
 "nbformat": 4,
 "nbformat_minor": 5
}
