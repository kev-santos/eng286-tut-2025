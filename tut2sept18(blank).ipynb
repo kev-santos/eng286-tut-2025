{
 "cells": [
  {
   "cell_type": "markdown",
   "id": "615ac4ee",
   "metadata": {},
   "source": [
    "# Variables\n",
    "\n",
    "Variables consist of two pieces of information: a **name** and a **value**. "
   ]
  },
  {
   "cell_type": "code",
   "execution_count": null,
   "id": "ccf70298",
   "metadata": {},
   "outputs": [],
   "source": [
    "number = 5"
   ]
  },
  {
   "cell_type": "markdown",
   "id": "9c25441c",
   "metadata": {},
   "source": [
    "In the above code, we **assign** the value 5 to a variable whose **name** is `number`. This is called an **assignment statement**. Note that an assignment statement does not produce any output. \n",
    "\n",
    "<img src=\"variable.jpeg\" width=350>"
   ]
  },
  {
   "cell_type": "markdown",
   "id": "dc1db48f",
   "metadata": {},
   "source": [
    "In an assignment statement, Python **evaluates** the expression to the right of the `=` before assigning it."
   ]
  },
  {
   "cell_type": "code",
   "execution_count": null,
   "id": "f1051b43",
   "metadata": {},
   "outputs": [],
   "source": [
    "number2 = 10 + 10"
   ]
  },
  {
   "cell_type": "markdown",
   "id": "9c80749b",
   "metadata": {},
   "source": [
    "To check the contents of a given variable, we can use the function `print` or just type the variable name."
   ]
  },
  {
   "cell_type": "code",
   "execution_count": null,
   "id": "4996e3bb",
   "metadata": {
    "scrolled": true
   },
   "outputs": [],
   "source": [
    "print(number2)"
   ]
  },
  {
   "cell_type": "code",
   "execution_count": null,
   "id": "cfc869c7",
   "metadata": {},
   "outputs": [],
   "source": [
    "number2"
   ]
  },
  {
   "cell_type": "markdown",
   "id": "12c25b67",
   "metadata": {},
   "source": [
    "**Why do we use variables?** Variables are useful if you want to use or modify the same value over and over again. Variables also help make your code more **readable**."
   ]
  },
  {
   "cell_type": "markdown",
   "id": "b53356ef",
   "metadata": {},
   "source": [
    "## Word of Caution! Re-assigning Variables\n",
    "\n",
    "Python does not give an error if you try to assign a new value to a variable with an existing name. Make sure you don't accidentally reuse or reassign existing variables!"
   ]
  },
  {
   "cell_type": "code",
   "execution_count": null,
   "id": "b8f9aed7",
   "metadata": {},
   "outputs": [],
   "source": [
    "gpa = 4.0"
   ]
  },
  {
   "cell_type": "code",
   "execution_count": null,
   "id": "5516b787",
   "metadata": {},
   "outputs": [],
   "source": [
    "gpa = 3.7"
   ]
  },
  {
   "cell_type": "code",
   "execution_count": null,
   "id": "33fbbeb9",
   "metadata": {},
   "outputs": [],
   "source": [
    "print(gpa)"
   ]
  },
  {
   "cell_type": "markdown",
   "id": "647c7475",
   "metadata": {},
   "source": [
    "## Word of Caution! Spell Variable Names Correctly\n",
    "\n",
    "Variable names are **case-sensitive.**\n"
   ]
  },
  {
   "cell_type": "code",
   "execution_count": null,
   "id": "ec0cde64",
   "metadata": {},
   "outputs": [],
   "source": [
    "print(GPA)"
   ]
  },
  {
   "cell_type": "markdown",
   "id": "a710d769",
   "metadata": {},
   "source": [
    "The above is a very common error (one I personally run into a lot) that can result from a simple typo. "
   ]
  },
  {
   "cell_type": "code",
   "execution_count": null,
   "id": "cb74b074",
   "metadata": {},
   "outputs": [],
   "source": [
    "print(Number)"
   ]
  },
  {
   "cell_type": "markdown",
   "id": "092fa0d5",
   "metadata": {},
   "source": [
    "## Naming Variables\n",
    "Python variables are usually written in \"`snake_case`\" or \"`pothole_case`\", i.e. in **all lowercase with underscores separating words**. You should try to make sure your variable names are **descriptive**, so that you can easily keep track of them. `number` isn't generally a good variable name, but `average_words` might be. "
   ]
  },
  {
   "cell_type": "markdown",
   "id": "951e8e9f",
   "metadata": {},
   "source": [
    "## Example/Exercise: Area of a Rectangle\n",
    "\n",
    "<img src=\"area.jpeg\" width=600>"
   ]
  },
  {
   "cell_type": "code",
   "execution_count": null,
   "id": "1ab4cb67",
   "metadata": {},
   "outputs": [],
   "source": [
    "length = 2\n",
    "width = 3\n",
    "area = length * width\n",
    "\n",
    "length = 4\n",
    "\n",
    "print(area)\n",
    "\n",
    "area = length * width\n",
    "\n",
    "print(area)\n",
    "\n",
    "#What happens if I add the following line of code to the end?\n",
    "\n"
   ]
  },
  {
   "cell_type": "markdown",
   "id": "7b417202",
   "metadata": {},
   "source": [
    "# Types\n",
    "The main data types we will deal with include \n",
    "- integers `int` (whole numbers)\n",
    "    - e.g. 0, 2, 365\n",
    "- floats `float` (decimals)\n",
    "    - e.g. 3.141, 2.718, 3.0\n",
    "- strings `str` (pieces of text)\n",
    "    - e.g. \"I don't know\", \"Hello world\"\n",
    "- booleans `bool` (True or False values) \n",
    "\n",
    "(I like learning the etymologies of words so I can remember them better!)\n",
    "- \"Integer\" has the same root as \"entire\" or \"integrity\", signifying wholeness.\n",
    "- \"Float\" is short for \"floating point number\", which is how decimal numbers are implemented by computers. The \"floating point\" is the decimal point, which can be placed anywhere.\n",
    "- A \"string\" is literally a string of characters.\n",
    "- \"Booleans\" are named after George Boole, who was a pioneer in a field of math/comp sci known as logic. "
   ]
  },
  {
   "cell_type": "markdown",
   "id": "88030a09",
   "metadata": {},
   "source": [
    "# Functions\n",
    "\n",
    "You can think of functions as transitive verbs that take an object (as an input) and act on it (to produce an output).\n",
    "\n",
    "A function takes an **argument** as an input and produces an output. The syntax is `function(argument)`. \n",
    "\n",
    "<img src=\"function_machine.png\" width=\"300\">\n",
    "\n",
    "Pro-tip: Python evaluates the arguments before applying the function. "
   ]
  },
  {
   "cell_type": "code",
   "execution_count": null,
   "id": "37204e24",
   "metadata": {},
   "outputs": [],
   "source": [
    "type(80)"
   ]
  },
  {
   "cell_type": "code",
   "execution_count": null,
   "id": "7f524f23",
   "metadata": {},
   "outputs": [],
   "source": [
    "max(2, 3, 4, 5)"
   ]
  },
  {
   "cell_type": "code",
   "execution_count": null,
   "id": "9a244a2d",
   "metadata": {},
   "outputs": [],
   "source": [
    "num1 = 10\n",
    "num2 = 5\n",
    "num3 = 2\n",
    "\n",
    "max(num1 + num2, num2 + num3, num1 + num3)"
   ]
  },
  {
   "cell_type": "code",
   "execution_count": null,
   "id": "ee34a5d2",
   "metadata": {},
   "outputs": [],
   "source": [
    "str(80)"
   ]
  },
  {
   "cell_type": "markdown",
   "id": "616526d2",
   "metadata": {},
   "source": [
    "You can even define your own functions! (Don't worry, you don't need to know how to do this yourself. This is just an illustrative example.)"
   ]
  },
  {
   "cell_type": "code",
   "execution_count": null,
   "id": "16c5695d",
   "metadata": {},
   "outputs": [],
   "source": [
    "def double(input):\n",
    "    \"\"\" Takes the input and multiplies it by 2; outputs the result. \"\"\"\n",
    "    return input * 2 "
   ]
  },
  {
   "cell_type": "code",
   "execution_count": null,
   "id": "76bb8420",
   "metadata": {
    "scrolled": true
   },
   "outputs": [],
   "source": [
    "double(5)"
   ]
  },
  {
   "cell_type": "code",
   "execution_count": null,
   "id": "ea468ca3",
   "metadata": {},
   "outputs": [],
   "source": [
    "double(\"thing\")"
   ]
  },
  {
   "cell_type": "code",
   "execution_count": null,
   "id": "3dd47550",
   "metadata": {},
   "outputs": [],
   "source": [
    "def addtwo(input):\n",
    "    \"\"\" Takes the input and adds 2 to it; outputs the result. \"\"\"\n",
    "    return input + 2"
   ]
  },
  {
   "cell_type": "code",
   "execution_count": null,
   "id": "48664c65",
   "metadata": {},
   "outputs": [],
   "source": [
    "addtwo(5)"
   ]
  },
  {
   "cell_type": "code",
   "execution_count": null,
   "id": "2e7fa454",
   "metadata": {
    "scrolled": true
   },
   "outputs": [],
   "source": [
    "addtwo(\"thing\")"
   ]
  },
  {
   "cell_type": "markdown",
   "id": "b8d54a4d",
   "metadata": {},
   "source": [
    "# Operators\n",
    "\n"
   ]
  },
  {
   "cell_type": "markdown",
   "id": "dc2a601b",
   "metadata": {},
   "source": [
    "Like functions, operators take inputs and produce outputs. However, the syntax is a bit different. The inputs go on either side of the operator, such as `2 + 2`. \n",
    "\n",
    "We have seen mathematical operators, which take in numbers and output numbers, but the **comparison operators** are also important:\n",
    "- `==`\n",
    "- `!=`\n",
    "- `>`\n",
    "- `<`\n",
    "- `>=`\n",
    "- `<=`\n",
    "\n",
    "It is important to **understand the difference between `=` and `==`**. `=` is used to assign a variable, but `==` is used to check if two things are the same. \n",
    "\n",
    "An assignment statement with `=` does not produce an output, but a comparison statement with `==` does. \n",
    "\n",
    "As with functions, Python evaluates both sides of the operator before applying the operator. "
   ]
  },
  {
   "cell_type": "code",
   "execution_count": null,
   "id": "0bc6b34d",
   "metadata": {},
   "outputs": [],
   "source": [
    "name = \"Kevin\""
   ]
  },
  {
   "cell_type": "code",
   "execution_count": null,
   "id": "6700873e",
   "metadata": {},
   "outputs": [],
   "source": [
    "name == \"Kevin\""
   ]
  },
  {
   "cell_type": "code",
   "execution_count": null,
   "id": "2ca13254",
   "metadata": {},
   "outputs": [],
   "source": [
    "name == \"Jevin\""
   ]
  },
  {
   "cell_type": "code",
   "execution_count": null,
   "id": "d9066028",
   "metadata": {},
   "outputs": [],
   "source": [
    "#\"Are these two things the same?\"\n",
    "80 == \"80\""
   ]
  },
  {
   "cell_type": "code",
   "execution_count": null,
   "id": "c6965dad",
   "metadata": {},
   "outputs": [],
   "source": [
    "#\"Are these two things different?\"\n",
    "80 != \"80\""
   ]
  },
  {
   "cell_type": "code",
   "execution_count": null,
   "id": "7d681742",
   "metadata": {},
   "outputs": [],
   "source": [
    "type(80)"
   ]
  },
  {
   "cell_type": "code",
   "execution_count": null,
   "id": "f4ef2b7b",
   "metadata": {},
   "outputs": [],
   "source": [
    "type(\"80\")"
   ]
  },
  {
   "cell_type": "markdown",
   "id": "22721b02",
   "metadata": {},
   "source": [
    "Experiment! Play around with the tools you have. Try combining things in unexpected ways. See what happens if you try to break the rules. "
   ]
  },
  {
   "cell_type": "code",
   "execution_count": null,
   "id": "dfbc911a",
   "metadata": {},
   "outputs": [],
   "source": [
    "\"star\" == \"star\""
   ]
  },
  {
   "cell_type": "code",
   "execution_count": null,
   "id": "c7ae3a17",
   "metadata": {},
   "outputs": [],
   "source": [
    "\"star\" >= 80"
   ]
  },
  {
   "cell_type": "code",
   "execution_count": null,
   "id": "f06032fd",
   "metadata": {},
   "outputs": [],
   "source": [
    "4.5 > 3"
   ]
  },
  {
   "cell_type": "code",
   "execution_count": null,
   "id": "13a548ad",
   "metadata": {},
   "outputs": [],
   "source": [
    "True >= \"True\""
   ]
  },
  {
   "cell_type": "code",
   "execution_count": null,
   "id": "2354b0a2",
   "metadata": {},
   "outputs": [],
   "source": [
    "\"star\" >= \"arts\""
   ]
  },
  {
   "cell_type": "code",
   "execution_count": null,
   "id": "2bca2040",
   "metadata": {},
   "outputs": [],
   "source": [
    "\"s\" > \"art\""
   ]
  },
  {
   "cell_type": "code",
   "execution_count": null,
   "id": "241b9635-3b3d-403c-86e7-0d4276ab15aa",
   "metadata": {},
   "outputs": [],
   "source": []
  },
  {
   "cell_type": "code",
   "execution_count": 1,
   "id": "14ccd0c6-b88c-4478-b0bb-0d66825a2180",
   "metadata": {
    "scrolled": true
   },
   "outputs": [
    {
     "data": {
      "text/plain": [
       "False"
      ]
     },
     "execution_count": 1,
     "metadata": {},
     "output_type": "execute_result"
    }
   ],
   "source": [
    "\"star\" < \"arts\""
   ]
  },
  {
   "cell_type": "code",
   "execution_count": 5,
   "id": "17186069-00d7-4465-8e1a-293f24a48fb3",
   "metadata": {
    "scrolled": true
   },
   "outputs": [
    {
     "data": {
      "text/plain": [
       "False"
      ]
     },
     "execution_count": 5,
     "metadata": {},
     "output_type": "execute_result"
    }
   ],
   "source": [
    "\"a\" < \"A\""
   ]
  },
  {
   "cell_type": "code",
   "execution_count": 3,
   "id": "34f2bd21-c0b5-4e92-8608-537398252a5f",
   "metadata": {},
   "outputs": [
    {
     "data": {
      "text/plain": [
       "True"
      ]
     },
     "execution_count": 3,
     "metadata": {},
     "output_type": "execute_result"
    }
   ],
   "source": [
    "\"photography\" < \"photosynthesis\""
   ]
  },
  {
   "cell_type": "code",
   "execution_count": null,
   "id": "4678e381-1edf-46ee-badb-da57e0c6543c",
   "metadata": {},
   "outputs": [],
   "source": [
    "true == True\n",
    "True == \"True\""
   ]
  },
  {
   "cell_type": "markdown",
   "id": "d4c7d0ef-11ad-4a62-a590-fd2931db8bd6",
   "metadata": {},
   "source": [
    "Markdown cells — double click to edit!!"
   ]
  },
  {
   "attachments": {
    "image.png": {
     "image/png": "[encoded data removed]"
    }
   },
   "cell_type": "markdown",
   "id": "beb8e304-4420-4943-9d4f-c71cc8fff988",
   "metadata": {},
   "source": [
    "![image.png](attachment:image.png)"
   ]
  },
  {
   "cell_type": "markdown",
   "id": "f1fd48ce-3ee2-4ab8-a9da-ca3ec7371316",
   "metadata": {},
   "source": [
    "# Indexing and slicing strings"
   ]
  },
  {
   "cell_type": "code",
   "execution_count": 6,
   "id": "cb34a9e6-1e07-4ee5-a8c6-da1ae9789570",
   "metadata": {},
   "outputs": [],
   "source": [
    "quote = \"No ideas but in things.\" # - William Carlos Williams"
   ]
  },
  {
   "cell_type": "markdown",
   "id": "ede14e1d-e73e-477d-ba57-c10b350b260b",
   "metadata": {},
   "source": [
    "How many characters are in quote?"
   ]
  },
  {
   "cell_type": "code",
   "execution_count": 7,
   "id": "8aafcf21-61fd-44b1-bc96-bac69cde74a6",
   "metadata": {},
   "outputs": [
    {
     "data": {
      "text/plain": [
       "23"
      ]
     },
     "execution_count": 7,
     "metadata": {},
     "output_type": "execute_result"
    }
   ],
   "source": [
    "len(quote)"
   ]
  },
  {
   "cell_type": "markdown",
   "id": "35c3e8bf-2ab0-423a-8076-a66783a582e3",
   "metadata": {},
   "source": [
    "Index the quote to get the following:"
   ]
  },
  {
   "cell_type": "code",
   "execution_count": 11,
   "id": "fb5a34db-e37f-44ca-adf5-05cd8869c34b",
   "metadata": {},
   "outputs": [
    {
     "name": "stdout",
     "output_type": "stream",
     "text": [
      "b\n"
     ]
    }
   ],
   "source": [
    "# A string containing the 10th character\n",
    "quote_10 = quote[9]\n",
    "print(quote_10)"
   ]
  },
  {
   "cell_type": "code",
   "execution_count": 13,
   "id": "3f330831-cae4-4657-b4ad-732dab922f15",
   "metadata": {},
   "outputs": [
    {
     "data": {
      "text/plain": [
       "'ideas'"
      ]
     },
     "execution_count": 13,
     "metadata": {},
     "output_type": "execute_result"
    }
   ],
   "source": [
    "# A string containing the word \"ideas\"\n",
    "quote[3:8]"
   ]
  },
  {
   "cell_type": "code",
   "execution_count": 15,
   "id": "63520b2a-90a3-4aa1-839c-fc92371f82c4",
   "metadata": {
    "scrolled": true
   },
   "outputs": [
    {
     "data": {
      "text/plain": [
       "'.'"
      ]
     },
     "execution_count": 15,
     "metadata": {},
     "output_type": "execute_result"
    }
   ],
   "source": [
    "# A string containing the period (two different ways!)\n",
    "quote[-1]"
   ]
  },
  {
   "cell_type": "code",
   "execution_count": 16,
   "id": "554ad8db-2ea5-46f1-a35e-5f451de8f09a",
   "metadata": {},
   "outputs": [
    {
     "data": {
      "text/plain": [
       "'.'"
      ]
     },
     "execution_count": 16,
     "metadata": {},
     "output_type": "execute_result"
    }
   ],
   "source": [
    "quote[22]"
   ]
  },
  {
   "cell_type": "markdown",
   "id": "20ab3896-4433-49ee-bd1e-8d3a9a529ea7",
   "metadata": {},
   "source": [
    "What happens if we try to break it?"
   ]
  },
  {
   "cell_type": "code",
   "execution_count": 17,
   "id": "54656cd9-9600-4deb-a33c-bb72bb01db5e",
   "metadata": {
    "scrolled": true
   },
   "outputs": [
    {
     "data": {
      "text/plain": [
       "''"
      ]
     },
     "execution_count": 17,
     "metadata": {},
     "output_type": "execute_result"
    }
   ],
   "source": [
    "quote[3:3]"
   ]
  },
  {
   "cell_type": "code",
   "execution_count": 18,
   "id": "21185629-56c8-472d-a657-e607033517fe",
   "metadata": {},
   "outputs": [
    {
     "data": {
      "text/plain": [
       "''"
      ]
     },
     "execution_count": 18,
     "metadata": {},
     "output_type": "execute_result"
    }
   ],
   "source": [
    "quote[3:2]"
   ]
  },
  {
   "cell_type": "markdown",
   "id": "0ea66af4-0478-4524-b12e-f0d9111c8f14",
   "metadata": {},
   "source": [
    "## Word of caution! Index error"
   ]
  },
  {
   "cell_type": "code",
   "execution_count": 19,
   "id": "499bde54-745f-442c-babb-a20da401fc77",
   "metadata": {
    "scrolled": true
   },
   "outputs": [
    {
     "ename": "IndexError",
     "evalue": "string index out of range",
     "output_type": "error",
     "traceback": [
      "\u001b[0;31m---------------------------------------------------------------------------\u001b[0m",
      "\u001b[0;31mIndexError\u001b[0m                                Traceback (most recent call last)",
      "Cell \u001b[0;32mIn[19], line 1\u001b[0m\n\u001b[0;32m----> 1\u001b[0m \u001b[43mquote\u001b[49m\u001b[43m[\u001b[49m\u001b[38;5;241;43m23\u001b[39;49m\u001b[43m]\u001b[49m\n",
      "\u001b[0;31mIndexError\u001b[0m: string index out of range"
     ]
    }
   ],
   "source": [
    "quote[23]"
   ]
  },
  {
   "cell_type": "markdown",
   "id": "f85d9f22-ca17-4f9f-ab07-813ab45715ca",
   "metadata": {},
   "source": [
    "# Methods vs. functions\n",
    "\n",
    "Methods are like functions (they take in an input and arguments, then produce an output) but they **can only be applied to a specific data type** and their **syntax** is different.\n",
    "\n",
    "Function example: ``function(argument)``\n",
    "\n",
    "Method example: ``input.method(argument)``\n",
    "\n",
    "(Some jargon (no need to know this): methods are a feature of *object-oriented programming*; for example, a string is an *object* in a certain sense, and a function associated to an object is called a *method*. Not all programming languages use an object-oriented paradigm!)"
   ]
  },
  {
   "cell_type": "markdown",
   "id": "7e465d11-6a49-409a-912e-4c2a5663110f",
   "metadata": {},
   "source": [
    "# Opening files \n",
    "\n",
    "To open a text file and assign its contents (in a single string) to a variable:\n",
    "\n",
    "`file_name = open(\"file.txt\", encoding=\"utf-8\").read()`"
   ]
  },
  {
   "cell_type": "code",
   "execution_count": 20,
   "id": "c1ee3392-0021-47e3-9916-ba6619e7d687",
   "metadata": {
    "scrolled": true
   },
   "outputs": [
    {
     "ename": "NameError",
     "evalue": "name 'song_of_myself' is not defined",
     "output_type": "error",
     "traceback": [
      "\u001b[0;31m---------------------------------------------------------------------------\u001b[0m",
      "\u001b[0;31mNameError\u001b[0m                                 Traceback (most recent call last)",
      "Cell \u001b[0;32mIn[20], line 5\u001b[0m\n\u001b[1;32m      1\u001b[0m \u001b[38;5;66;03m# What's wrong with the following?\u001b[39;00m\n\u001b[1;32m      2\u001b[0m \u001b[38;5;66;03m# Run the code and try to deduce the problem.\u001b[39;00m\n\u001b[1;32m      3\u001b[0m \u001b[38;5;66;03m# Contrast with what is written in the above line of code. \u001b[39;00m\n\u001b[0;32m----> 5\u001b[0m song_of_myself \u001b[38;5;241m=\u001b[39m \u001b[38;5;28mopen\u001b[39m(\u001b[43msong_of_myself\u001b[49m\u001b[38;5;241m.\u001b[39mtxt, encoding\u001b[38;5;241m=\u001b[39m\u001b[38;5;124m\"\u001b[39m\u001b[38;5;124mutf-8\u001b[39m\u001b[38;5;124m\"\u001b[39m)\u001b[38;5;241m.\u001b[39mread()\n\u001b[1;32m      6\u001b[0m \u001b[38;5;28mprint\u001b[39m(song_of_myself)\n",
      "\u001b[0;31mNameError\u001b[0m: name 'song_of_myself' is not defined"
     ]
    }
   ],
   "source": [
    "# What's wrong with the following?\n",
    "# Run the code and try to deduce the problem.\n",
    "# Contrast with what is written in the above line of code. \n",
    "\n",
    "song_of_myself = open(song_of_myself.txt, encoding=\"utf-8\").read()\n",
    "print(song_of_myself)"
   ]
  },
  {
   "cell_type": "code",
   "execution_count": null,
   "id": "3b09c6c1-9fd6-4031-a0d6-3f519f5c2e61",
   "metadata": {},
   "outputs": [],
   "source": [
    "song_of_myself = open(\"song_of_myself.txt\", encoding=\"utf-8\").read()\n",
    "print(song_of_myself)"
   ]
  },
  {
   "cell_type": "markdown",
   "id": "15573c4f-5316-4a2e-a3d9-8ac6ea9ed33e",
   "metadata": {},
   "source": [
    "# String methods\n",
    "\n",
    "Applying a method to string usually **does not alter the contents of the original string itself**. \n",
    "\n",
    "String methods can return different data types. You can then assign the output of a method to a variable.\n",
    "\n",
    "Some methods require arguments, some do not. \n",
    "\n",
    "Google \"python string methods\" to find a list of methods you can use!"
   ]
  },
  {
   "cell_type": "code",
   "execution_count": 3,
   "id": "a0cf69a5-cc61-45fc-9a26-0dc41a72f531",
   "metadata": {},
   "outputs": [
    {
     "data": {
      "text/plain": [
       "'1\\n  I CELEBRATE MYSELF, AND SING MYSELF,\\n  AND WHAT I ASSUME YOU SHALL ASSUME,\\n  FOR EVERY ATOM BELO'"
      ]
     },
     "execution_count": 3,
     "metadata": {},
     "output_type": "execute_result"
    }
   ],
   "source": [
    "song_of_myself.upper()[:100]"
   ]
  },
  {
   "cell_type": "code",
   "execution_count": 4,
   "id": "ace8b915-d2c9-4e70-b8a6-5d24c6761198",
   "metadata": {},
   "outputs": [
    {
     "data": {
      "text/plain": [
       "'1\\n  I celebrate myself, and sing myself,\\n  And what I assume you shall assume,\\n  For every atom belo'"
      ]
     },
     "execution_count": 4,
     "metadata": {},
     "output_type": "execute_result"
    }
   ],
   "source": [
    "song_of_myself[:100]"
   ]
  },
  {
   "cell_type": "code",
   "execution_count": 25,
   "id": "8ceadcd0-3d0f-4736-97f8-7b7e5993db70",
   "metadata": {},
   "outputs": [
    {
     "data": {
      "text/plain": [
       "False"
      ]
     },
     "execution_count": 25,
     "metadata": {},
     "output_type": "execute_result"
    }
   ],
   "source": [
    "song_of_myself.isnumeric()"
   ]
  },
  {
   "cell_type": "code",
   "execution_count": 26,
   "id": "df045929-a573-40d0-bbb2-084f351da0b6",
   "metadata": {},
   "outputs": [
    {
     "data": {
      "text/plain": [
       "True"
      ]
     },
     "execution_count": 26,
     "metadata": {},
     "output_type": "execute_result"
    }
   ],
   "source": [
    "\"1234\".isnumeric()"
   ]
  },
  {
   "cell_type": "code",
   "execution_count": null,
   "id": "bb28785c-3a7c-49cd-b3a7-bab6abfe6f4b",
   "metadata": {},
   "outputs": [],
   "source": [
    "song_of_myself.find()"
   ]
  },
  {
   "cell_type": "code",
   "execution_count": null,
   "id": "06f142eb-f312-439f-8e60-7cd68761be5f",
   "metadata": {},
   "outputs": [],
   "source": [
    "# the default behaviour of .split()\n",
    "song_of_myself.split()"
   ]
  },
  {
   "cell_type": "code",
   "execution_count": 5,
   "id": "fcb084a7-dc48-4b30-8f9b-c8bfaaf91147",
   "metadata": {},
   "outputs": [
    {
     "data": {
      "text/plain": [
       "'1\\n  I celebrate myself, and sing myself,\\n  And what I assume you shall assume,\\n  For every atom belo'"
      ]
     },
     "execution_count": 5,
     "metadata": {},
     "output_type": "execute_result"
    }
   ],
   "source": [
    "song_of_myself[:100]"
   ]
  },
  {
   "cell_type": "code",
   "execution_count": 6,
   "id": "99965476-c239-4e3f-8d78-9cddac7ab9a4",
   "metadata": {},
   "outputs": [
    {
     "name": "stdout",
     "output_type": "stream",
     "text": [
      "1\n",
      "  I celebrate myself, and sing myself,\n",
      "  And what I assume you shall assume,\n",
      "  For every atom belo\n"
     ]
    }
   ],
   "source": [
    "print(song_of_myself[:100])"
   ]
  },
  {
   "cell_type": "code",
   "execution_count": 8,
   "id": "cbe342d4-227c-4226-9af3-d27b3cd348f3",
   "metadata": {},
   "outputs": [
    {
     "data": {
      "text/plain": [
       "['1',\n",
       " '  I celebrate myself, and sing myself,',\n",
       " '  And what I assume you shall assume,',\n",
       " '  For every atom belonging to me as good belongs to you.',\n",
       " '',\n",
       " '  I loafe and invite my soul,',\n",
       " '  I lean and loafe at my ease observing a spear of summer grass.',\n",
       " '',\n",
       " '  My tongue, every atom of my blood, form’d from this soil, this air,',\n",
       " '  Born here of parents born here from parents the same, and their']"
      ]
     },
     "execution_count": 8,
     "metadata": {},
     "output_type": "execute_result"
    }
   ],
   "source": [
    "# What character separates lines in the original string? \n",
    "# Use this as an argument for .split()\n",
    "song_of_myself.split(\"\\n\")[:10]"
   ]
  },
  {
   "cell_type": "code",
   "execution_count": null,
   "id": "ee3f623f-cfcd-47c9-8343-8661024795e2",
   "metadata": {},
   "outputs": [],
   "source": [
    "# What if we use other arguments for .split()?\n",
    "song_of_myself.split()"
   ]
  },
  {
   "cell_type": "markdown",
   "id": "c6a33811-bee0-428b-83d4-871572f9d4ba",
   "metadata": {},
   "source": [
    "# Lists\n",
    "\n",
    "Lists can contain any data type!"
   ]
  },
  {
   "cell_type": "code",
   "execution_count": 32,
   "id": "5f605f68-8a14-48f0-be8c-7cc02b5f0f46",
   "metadata": {},
   "outputs": [],
   "source": [
    "random_list = [2, True, 4.0, \"cat\", [\"pencil\", \"paper\", \"pen\"], [2, 3, 5, 7, 11]]"
   ]
  },
  {
   "cell_type": "code",
   "execution_count": 33,
   "id": "e255f9c2-9896-4ca5-b1e4-55dce72d9076",
   "metadata": {},
   "outputs": [
    {
     "data": {
      "text/plain": [
       "6"
      ]
     },
     "execution_count": 33,
     "metadata": {},
     "output_type": "execute_result"
    }
   ],
   "source": [
    "len(random_list)"
   ]
  },
  {
   "cell_type": "code",
   "execution_count": null,
   "id": "44ab86a2-4cb6-4765-98c3-5f5e494a1e0d",
   "metadata": {},
   "outputs": [],
   "source": [
    "# Index the list to get 4.0"
   ]
  },
  {
   "cell_type": "code",
   "execution_count": null,
   "id": "972c60c1-b583-40ed-a9ec-c107f2a5f04c",
   "metadata": {},
   "outputs": [],
   "source": [
    "# Index the list to get [2, 3, 5, 7, 11]"
   ]
  },
  {
   "cell_type": "code",
   "execution_count": null,
   "id": "b2a75fc7-defc-4a88-9930-e6191f561509",
   "metadata": {},
   "outputs": [],
   "source": [
    "# Index the list to get \"paper\" "
   ]
  },
  {
   "cell_type": "code",
   "execution_count": null,
   "id": "fa75e908-fd0e-4270-bec9-73dab068f0d8",
   "metadata": {},
   "outputs": [],
   "source": [
    "# How many items are in this list?\n",
    "len(random_list)"
   ]
  },
  {
   "cell_type": "code",
   "execution_count": null,
   "id": "d6427379-d385-45ba-8a8b-48a41c391ee2",
   "metadata": {},
   "outputs": [],
   "source": [
    "drinks_list = [\"Water\", \"Tea\", \"Coffee\", \"Juice\", \"Coke\", \"Sprite\"]"
   ]
  }
 ],
 "metadata": {
  "kernelspec": {
   "display_name": "Python 3 (ipykernel)",
   "language": "python",
   "name": "python3"
  },
  "language_info": {
   "codemirror_mode": {
    "name": "ipython",
    "version": 3
   },
   "file_extension": ".py",
   "mimetype": "text/x-python",
   "name": "python",
   "nbconvert_exporter": "python",
   "pygments_lexer": "ipython3",
   "version": "3.12.11"
  }
 },
 "nbformat": 4,
 "nbformat_minor": 5
}
