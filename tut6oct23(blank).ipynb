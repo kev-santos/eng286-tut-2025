{
 "cells": [
  {
   "cell_type": "code",
   "execution_count": null,
   "id": "3020b538-3cbd-451c-af4f-d88a1f576083",
   "metadata": {},
   "outputs": [],
   "source": [
    "import pandas as pd\n",
    "\n",
    "checkouts_df = pd.read_csv('seattle_checkouts.csv')"
   ]
  },
  {
   "cell_type": "markdown",
   "id": "adbcb3b4-5818-469b-8d4d-9c8800d51df4",
   "metadata": {},
   "source": [
    "# Lab Review"
   ]
  },
  {
   "cell_type": "markdown",
   "id": "bbd43328-f77e-4c04-91ad-08821ba7d0a1",
   "metadata": {},
   "source": [
    "What is the difference between the following two lines of code? "
   ]
  },
  {
   "cell_type": "code",
   "execution_count": null,
   "id": "60380eb4-f390-4b30-9f2b-2bc1a4eb2ea9",
   "metadata": {},
   "outputs": [],
   "source": [
    "checkouts_df['Title'].value_counts()[:10]"
   ]
  },
  {
   "cell_type": "code",
   "execution_count": null,
   "id": "22faa60e-6f19-40c3-b91a-0e12e6594b90",
   "metadata": {
    "scrolled": true
   },
   "outputs": [],
   "source": [
    "checkouts_df.nlargest(10, 'Checkouts')"
   ]
  },
  {
   "cell_type": "markdown",
   "id": "c6f47b5f-1c6c-45f0-b14a-9b57c7f474b2",
   "metadata": {},
   "source": [
    "**6b)** Why do you think the most checked-out books do not coincide with the most frequently listed writers? Do you think we can conclude that J.K. Rowling is the author whose works were checked out the most in this time period?"
   ]
  },
  {
   "cell_type": "code",
   "execution_count": null,
   "id": "e0bb624c-847c-4819-83a4-45ab690c3e79",
   "metadata": {},
   "outputs": [],
   "source": [
    "checkouts_df['Creator'].value_counts()[:20]"
   ]
  },
  {
   "cell_type": "code",
   "execution_count": null,
   "id": "1822a67a",
   "metadata": {
    "scrolled": true
   },
   "outputs": [],
   "source": []
  },
  {
   "cell_type": "markdown",
   "id": "01a77281",
   "metadata": {},
   "source": [
    "# Making a graph\n",
    "\n",
    "Make a bar graph showing the top 10 most common publishers in the list. \n",
    "\n",
    "### Question\n",
    "\n",
    "What does `checkouts_df[\"Publisher\"]` do? \n",
    "What does `checkouts_df[\"Publisher\"].value_counts()` do? \n",
    "What is the type of `publisher_data`? "
   ]
  },
  {
   "cell_type": "code",
   "execution_count": null,
   "id": "116e7396",
   "metadata": {},
   "outputs": [],
   "source": [
    "checkouts_df[\"Publisher\"]"
   ]
  },
  {
   "cell_type": "code",
   "execution_count": null,
   "id": "e9982160-f84c-4322-bd8f-774a9dbbe7b8",
   "metadata": {},
   "outputs": [],
   "source": [
    "checkouts_df[\"Publisher\"].value_counts()"
   ]
  },
  {
   "cell_type": "code",
   "execution_count": null,
   "id": "b98f3b0c-4cc8-4286-a1c0-aa760619029e",
   "metadata": {},
   "outputs": [],
   "source": [
    "publisher_data = checkouts_df[\"Publisher\"].value_counts()\n",
    "publisher_data"
   ]
  },
  {
   "cell_type": "code",
   "execution_count": null,
   "id": "e5b014ac",
   "metadata": {},
   "outputs": [],
   "source": [
    "type(publisher_data)"
   ]
  },
  {
   "cell_type": "markdown",
   "id": "a70c62e9",
   "metadata": {},
   "source": [
    "### Question\n",
    "What is the *type* of `publisher_data`? How can we get only the *top 10* most common publishers? "
   ]
  },
  {
   "cell_type": "code",
   "execution_count": null,
   "id": "8e72f4e3",
   "metadata": {},
   "outputs": [],
   "source": [
    "# Store the top 10 publishers in the variable top_10_publishers_data.  \n",
    "top_10_publishers_data = \n",
    "top_10_publishers_data"
   ]
  },
  {
   "cell_type": "markdown",
   "id": "cbdc2448",
   "metadata": {},
   "source": [
    "### Question\n",
    "\n",
    "Using the `top_10_publishers_data` variable, plot a bar graph depicting the data in that variable, and store that plot in a variable called `publisher_plot`. \n",
    "\n",
    "Modify the below line of pre-written code to complete the task. "
   ]
  },
  {
   "cell_type": "code",
   "execution_count": null,
   "id": "a7a9b114",
   "metadata": {},
   "outputs": [],
   "source": [
    "# Which part of the below code should we replace with top_10_publishers_data? \n",
    "\n",
    "publisher_plot = .plot(\n",
    "    kind='barh', figsize=(5, 5), title='Top 10 publishers'\n",
    ")\n",
    "print(publisher_plot)"
   ]
  },
  {
   "cell_type": "markdown",
   "id": "b851fda1",
   "metadata": {},
   "source": [
    "# Adding a column to a dataframe\n",
    "\n",
    "### Question\n",
    "\n",
    "Add a column called \"Popular?\" that checks if a book was checked out exactly once. The column will contain \"True\" for items with 10 or more checkouts, and \"False\" for items with less than 10 checkouts. "
   ]
  },
  {
   "cell_type": "code",
   "execution_count": null,
   "id": "4721404d",
   "metadata": {},
   "outputs": [],
   "source": [
    "checkouts_df[\"Popular\"] = checkouts_df[\"Checkouts\"] < 10\n",
    "checkouts_df"
   ]
  },
  {
   "cell_type": "markdown",
   "id": "d46f087d",
   "metadata": {},
   "source": [
    "Now make a pie chart to compare the proportion of True and False values in the column \"Popular?\". "
   ]
  },
  {
   "cell_type": "code",
   "execution_count": null,
   "id": "b9b57a76",
   "metadata": {},
   "outputs": [],
   "source": [
    "# What do I replace \"something\" with to do this?\n",
    "plot = something.plot(kind=\"pie\", figsize=(10, 10))\n",
    "print(plot)"
   ]
  },
  {
   "cell_type": "markdown",
   "id": "fa5dc888",
   "metadata": {},
   "source": [
    "Technical note:\n",
    "\n",
    "What does `checkouts_df[\"Checkouts\"] > 10` *output*? What is the type of the output? "
   ]
  },
  {
   "cell_type": "code",
   "execution_count": null,
   "id": "1ddc9ecd",
   "metadata": {},
   "outputs": [],
   "source": [
    "checkouts_df[\"Checkouts\"] > 10"
   ]
  },
  {
   "cell_type": "markdown",
   "id": "733be2ef",
   "metadata": {},
   "source": [
    "### Question \n",
    "\n",
    "The code below adds a column that checks if the given title is a mystery."
   ]
  },
  {
   "cell_type": "code",
   "execution_count": null,
   "id": "3d9c9342",
   "metadata": {
    "scrolled": true
   },
   "outputs": [],
   "source": [
    "checkouts_df[\"Mystery?\"] = checkouts_df[\"Subjects\"].str.contains(\"Mystery\")\n",
    "checkouts_df"
   ]
  },
  {
   "cell_type": "markdown",
   "id": "221db7f3",
   "metadata": {},
   "source": [
    "Now make a pie chart depicting the data in the \"Mystery?\" column. "
   ]
  },
  {
   "cell_type": "code",
   "execution_count": null,
   "id": "5ffe0eb1",
   "metadata": {},
   "outputs": [],
   "source": []
  },
  {
   "cell_type": "markdown",
   "id": "04c55de5",
   "metadata": {},
   "source": [
    "# Using the .groupby() method\n"
   ]
  },
  {
   "cell_type": "markdown",
   "id": "8e9214f0",
   "metadata": {},
   "source": [
    "(Note: the Melanie Walsh textbook linked on the Quercus page has a good intro to the .groupby() method.)\n",
    "\n",
    "Let's try to find the creators whose works were checked out the most in April 2020. \n",
    "\n",
    "We can do this with the .groupby() method. \n",
    "\n",
    "First, I want to group by the Creator column."
   ]
  },
  {
   "cell_type": "code",
   "execution_count": null,
   "id": "b2641020",
   "metadata": {
    "scrolled": true
   },
   "outputs": [],
   "source": [
    "#What do I need to add to this to group by creator?\n",
    "\n",
    "checkouts_grouped_creator = checkouts_df.groupby()\n",
    "checkouts_grouped_creator"
   ]
  },
  {
   "cell_type": "markdown",
   "id": "dedbbdee",
   "metadata": {},
   "source": [
    "Now, to add together the checkouts corresponding to each creator, I can use the `.sum()` method!"
   ]
  },
  {
   "cell_type": "code",
   "execution_count": null,
   "id": "ac4b3d9a",
   "metadata": {},
   "outputs": [],
   "source": [
    "checkouts_grouped_creator_summed = checkouts_grouped_creator.sum()\n",
    "checkouts_grouped_creator_summed"
   ]
  },
  {
   "cell_type": "markdown",
   "id": "d5c71a7f",
   "metadata": {},
   "source": [
    "**Question:** How can I select just the Checkouts column from the dataframe `checkouts_grouped_creator_summed`?"
   ]
  },
  {
   "cell_type": "code",
   "execution_count": null,
   "id": "a790eb60",
   "metadata": {},
   "outputs": [],
   "source": [
    "checkouts_grouped_creator_summed[\"Checkouts\"]"
   ]
  },
  {
   "cell_type": "markdown",
   "id": "fd7b4c42",
   "metadata": {},
   "source": [
    "Now I can find the ten authors with the most checkouts in total, using the `.nlargest()` method!\n",
    "\n",
    "**Question:** What would I need to change to get the top **20** most checked out authors?"
   ]
  },
  {
   "cell_type": "code",
   "execution_count": null,
   "id": "351d219f",
   "metadata": {
    "scrolled": true
   },
   "outputs": [],
   "source": [
    "top_10_creators = checkouts_grouped_creator_summed[[\"Checkouts\"]].nlargest(10, columns=\"Checkouts\")\n",
    "top_10_creators"
   ]
  },
  {
   "cell_type": "markdown",
   "id": "1131aa69",
   "metadata": {},
   "source": [
    "...And plot the result!"
   ]
  },
  {
   "cell_type": "code",
   "execution_count": null,
   "id": "8bdf1988",
   "metadata": {},
   "outputs": [],
   "source": [
    "top_10_creators.plot(kind='bar', figsize=(10, 5), title='10 Most Checked-Out Creators')"
   ]
  },
  {
   "cell_type": "markdown",
   "id": "f900cb5b",
   "metadata": {},
   "source": [
    "## Grouping by multiple columns\n",
    "\n",
    "Let's find the most common material types for each publication year.\n",
    "\n",
    "I can do this by calling the `.groupby()` method with a list: we group by the PublicationYear column first, then by the MaterialType column. \n",
    "\n",
    "### Question\n",
    "\n",
    "Unpack the stack of methods in the following lines. \n",
    "\n",
    "What does the `.groupby()` method output?\n",
    "\n",
    "What happens when we apply the `.size()` method?\n",
    "\n",
    "What happens when we apply the `.unstack()` method?"
   ]
  },
  {
   "cell_type": "code",
   "execution_count": null,
   "id": "9d978031",
   "metadata": {},
   "outputs": [],
   "source": [
    "checkouts_df.groupby(['PublicationYear', 'MaterialType'])"
   ]
  },
  {
   "cell_type": "code",
   "execution_count": null,
   "id": "8c025c96",
   "metadata": {
    "scrolled": true
   },
   "outputs": [],
   "source": [
    "checkouts_df.groupby(['PublicationYear', 'MaterialType']).size()[:53]"
   ]
  },
  {
   "cell_type": "markdown",
   "id": "64dd6c5e",
   "metadata": {},
   "source": [
    "I can select the first 53 rows of this to get rid of the weird data at the end:"
   ]
  },
  {
   "cell_type": "code",
   "execution_count": null,
   "id": "a99da293",
   "metadata": {
    "scrolled": true
   },
   "outputs": [],
   "source": [
    "grouped = checkouts_df.groupby(['PublicationYear', 'MaterialType']).size()[:53].unstack(fill_value=0)\n",
    "grouped"
   ]
  },
  {
   "cell_type": "code",
   "execution_count": null,
   "id": "6fc5a3cd",
   "metadata": {},
   "outputs": [],
   "source": [
    "plot = grouped.plot(kind=\"bar\", figsize=(7, 7))\n",
    "print(plot)"
   ]
  },
  {
   "cell_type": "markdown",
   "id": "47e1d51d",
   "metadata": {},
   "source": [
    "### Question\n",
    "\n",
    "Unpack the stack of methods in the following lines. (No need to run any of the cells for this task.)\n",
    "\n",
    "What does the .groupby() method output?\n",
    "\n",
    "What happens when we apply the .size() method?\n",
    "\n",
    "What happens when we apply the .unstack() method?"
   ]
  },
  {
   "cell_type": "code",
   "execution_count": null,
   "id": "994827eb",
   "metadata": {},
   "outputs": [],
   "source": [
    "nytg_df = pd.read_csv('nyt_full_gender_signal.tsv', sep=\"\\t\")\n",
    "nytg_df"
   ]
  },
  {
   "cell_type": "code",
   "execution_count": null,
   "id": "bbb9d79e",
   "metadata": {},
   "outputs": [],
   "source": [
    "nytg_df.groupby(['year', 'gender_signal'])"
   ]
  },
  {
   "cell_type": "code",
   "execution_count": null,
   "id": "d2beb67e",
   "metadata": {
    "scrolled": true
   },
   "outputs": [],
   "source": [
    "nytg_df.groupby(['year', 'gender_signal']).size()"
   ]
  },
  {
   "cell_type": "code",
   "execution_count": null,
   "id": "13604b04",
   "metadata": {},
   "outputs": [],
   "source": [
    "nytg_df.groupby(['year', 'gender_signal']).size().unstack(fill_value=0)"
   ]
  },
  {
   "cell_type": "code",
   "execution_count": null,
   "id": "6b1d6b2e",
   "metadata": {},
   "outputs": [],
   "source": []
  }
 ],
 "metadata": {
  "kernelspec": {
   "display_name": "Python 3 (ipykernel)",
   "language": "python",
   "name": "python3"
  },
  "language_info": {
   "codemirror_mode": {
    "name": "ipython",
    "version": 3
   },
   "file_extension": ".py",
   "mimetype": "text/x-python",
   "name": "python",
   "nbconvert_exporter": "python",
   "pygments_lexer": "ipython3",
   "version": "3.12.11"
  }
 },
 "nbformat": 4,
 "nbformat_minor": 5
}
